{
 "cells": [
  {
   "cell_type": "code",
   "execution_count": 1,
   "metadata": {},
   "outputs": [
    {
     "name": "stderr",
     "output_type": "stream",
     "text": [
      "Using TensorFlow backend.\n",
      "/home/ruhshan/anaconda3/lib/python3.6/site-packages/h5py/__init__.py:34: FutureWarning: Conversion of the second argument of issubdtype from `float` to `np.floating` is deprecated. In future, it will be treated as `np.float64 == np.dtype(float).type`.\n",
      "  from ._conv import register_converters as _register_converters\n"
     ]
    }
   ],
   "source": [
    "from __future__ import print_function\n",
    "import numpy as np\n",
    "from keras.datasets import mnist\n",
    "from keras.models import Sequential\n",
    "\n",
    "from keras.layers.core import Dense, Activation\n",
    "\n",
    "from keras.optimizers import SGD\n",
    "from keras.utils import np_utils\n",
    "\n",
    "np.random.seed(1671)"
   ]
  },
  {
   "cell_type": "code",
   "execution_count": 11,
   "metadata": {
    "collapsed": true
   },
   "outputs": [],
   "source": [
    "#network and training\n",
    "NB_EPOCH = 20\n",
    "BATCH_SIZE = 128\n",
    "VERBOSE = 1\n",
    "NB_CLASSES = 10\n",
    "OPTIMIZER = SGD() # SGD optimizer, explained later in this chapter\n",
    "N_HIDDEN = 128\n",
    "VALIDATION_SPLIT=0.2 \n",
    "N_HIDDEN = 128"
   ]
  },
  {
   "cell_type": "code",
   "execution_count": 3,
   "metadata": {},
   "outputs": [],
   "source": [
    "#data \n",
    "(X_train, y_train), (X_test, y_test) = mnist.load_data()\n",
    "#X_test.shape\n",
    "RESHAPED = 784\n",
    "\n",
    "X_train = X_train.reshape(60000, RESHAPED)\n",
    "X_test = X_test.reshape(10000, RESHAPED)\n",
    "\n",
    "X_train = X_train.astype('float32')\n",
    "X_test = X_test.astype('float32')"
   ]
  },
  {
   "cell_type": "code",
   "execution_count": 4,
   "metadata": {
    "collapsed": true
   },
   "outputs": [],
   "source": [
    "# normalize\n",
    "X_train /= 255\n",
    "X_test /= 255"
   ]
  },
  {
   "cell_type": "code",
   "execution_count": 5,
   "metadata": {},
   "outputs": [],
   "source": [
    "# convert class vectors to binary class matrices\n",
    "Y_train = np_utils.to_categorical(y_train, NB_CLASSES)\n",
    "Y_test = np_utils.to_categorical(y_test, NB_CLASSES)"
   ]
  },
  {
   "cell_type": "code",
   "execution_count": 6,
   "metadata": {},
   "outputs": [
    {
     "name": "stdout",
     "output_type": "stream",
     "text": [
      "____________________________________________________________________________________________________\n",
      "Layer (type)                     Output Shape          Param #     Connected to                     \n",
      "====================================================================================================\n",
      "dense_1 (Dense)                  (None, 10)            7850        dense_input_1[0][0]              \n",
      "____________________________________________________________________________________________________\n",
      "activation_1 (Activation)        (None, 10)            0           dense_1[0][0]                    \n",
      "====================================================================================================\n",
      "Total params: 7,850\n",
      "Trainable params: 7,850\n",
      "Non-trainable params: 0\n",
      "____________________________________________________________________________________________________\n"
     ]
    }
   ],
   "source": [
    "model = Sequential()\n",
    "model.add(Dense(NB_CLASSES, input_shape=(RESHAPED,)))\n",
    "model.add(Activation('softmax'))\n",
    "model.summary()"
   ]
  },
  {
   "cell_type": "code",
   "execution_count": 7,
   "metadata": {},
   "outputs": [
    {
     "name": "stdout",
     "output_type": "stream",
     "text": [
      "WARNING:tensorflow:From /home/ruhshan/anaconda3/lib/python3.6/site-packages/keras/backend/tensorflow_backend.py:1966: calling reduce_sum (from tensorflow.python.ops.math_ops) with keep_dims is deprecated and will be removed in a future version.\n",
      "Instructions for updating:\n",
      "keep_dims is deprecated, use keepdims instead\n",
      "WARNING:tensorflow:From /home/ruhshan/anaconda3/lib/python3.6/site-packages/keras/backend/tensorflow_backend.py:996: calling reduce_mean (from tensorflow.python.ops.math_ops) with keep_dims is deprecated and will be removed in a future version.\n",
      "Instructions for updating:\n",
      "keep_dims is deprecated, use keepdims instead\n"
     ]
    }
   ],
   "source": [
    "model.compile(loss='categorical_crossentropy', optimizer=OPTIMIZER, metrics=['accuracy'])"
   ]
  },
  {
   "cell_type": "code",
   "execution_count": 8,
   "metadata": {},
   "outputs": [
    {
     "name": "stdout",
     "output_type": "stream",
     "text": [
      "Train on 48000 samples, validate on 12000 samples\n",
      "Epoch 1/20\n",
      "48000/48000 [==============================] - 1s - loss: 1.4102 - acc: 0.6554 - val_loss: 0.9073 - val_acc: 0.8244\n",
      "Epoch 2/20\n",
      "48000/48000 [==============================] - 1s - loss: 0.8006 - acc: 0.8279 - val_loss: 0.6625 - val_acc: 0.8567loss: 0.8149 -\n",
      "Epoch 3/20\n",
      "48000/48000 [==============================] - 1s - loss: 0.6467 - acc: 0.8495 - val_loss: 0.5650 - val_acc: 0.8704\n",
      "Epoch 4/20\n",
      "48000/48000 [==============================] - 1s - loss: 0.5728 - acc: 0.8600 - val_loss: 0.5112 - val_acc: 0.8778\n",
      "Epoch 5/20\n",
      "48000/48000 [==============================] - 0s - loss: 0.5280 - acc: 0.8677 - val_loss: 0.4767 - val_acc: 0.8822\n",
      "Epoch 6/20\n",
      "48000/48000 [==============================] - 1s - loss: 0.4974 - acc: 0.8736 - val_loss: 0.4521 - val_acc: 0.8872\n",
      "Epoch 7/20\n",
      "48000/48000 [==============================] - 1s - loss: 0.4747 - acc: 0.8771 - val_loss: 0.4339 - val_acc: 0.8889\n",
      "Epoch 8/20\n",
      "48000/48000 [==============================] - 1s - loss: 0.4572 - acc: 0.8808 - val_loss: 0.4193 - val_acc: 0.8923\n",
      "Epoch 9/20\n",
      "48000/48000 [==============================] - 1s - loss: 0.4431 - acc: 0.8831 - val_loss: 0.4078 - val_acc: 0.8937\n",
      "Epoch 10/20\n",
      "48000/48000 [==============================] - 1s - loss: 0.4314 - acc: 0.8851 - val_loss: 0.3981 - val_acc: 0.8947\n",
      "Epoch 11/20\n",
      "48000/48000 [==============================] - 1s - loss: 0.4215 - acc: 0.8877 - val_loss: 0.3900 - val_acc: 0.8974\n",
      "Epoch 12/20\n",
      "48000/48000 [==============================] - 1s - loss: 0.4131 - acc: 0.8890 - val_loss: 0.3830 - val_acc: 0.8982\n",
      "Epoch 13/20\n",
      "48000/48000 [==============================] - 1s - loss: 0.4057 - acc: 0.8905 - val_loss: 0.3769 - val_acc: 0.9000\n",
      "Epoch 14/20\n",
      "48000/48000 [==============================] - 1s - loss: 0.3992 - acc: 0.8921 - val_loss: 0.3715 - val_acc: 0.9008\n",
      "Epoch 15/20\n",
      "48000/48000 [==============================] - 1s - loss: 0.3933 - acc: 0.8932 - val_loss: 0.3667 - val_acc: 0.9027\n",
      "Epoch 16/20\n",
      "48000/48000 [==============================] - 1s - loss: 0.3881 - acc: 0.8944 - val_loss: 0.3624 - val_acc: 0.9027\n",
      "Epoch 17/20\n",
      "48000/48000 [==============================] - 1s - loss: 0.3834 - acc: 0.8951 - val_loss: 0.3586 - val_acc: 0.9032\n",
      "Epoch 18/20\n",
      "48000/48000 [==============================] - 1s - loss: 0.3791 - acc: 0.8962 - val_loss: 0.3550 - val_acc: 0.9042\n",
      "Epoch 19/20\n",
      "48000/48000 [==============================] - 1s - loss: 0.3752 - acc: 0.8968 - val_loss: 0.3517 - val_acc: 0.9047\n",
      "Epoch 20/20\n",
      "48000/48000 [==============================] - 1s - loss: 0.3716 - acc: 0.8977 - val_loss: 0.3488 - val_acc: 0.9052\n"
     ]
    }
   ],
   "source": [
    "history = model.fit(X_train, Y_train,\n",
    "        batch_size=BATCH_SIZE, nb_epoch=NB_EPOCH,\n",
    "        verbose=VERBOSE, validation_split=VALIDATION_SPLIT)"
   ]
  },
  {
   "cell_type": "code",
   "execution_count": 9,
   "metadata": {},
   "outputs": [
    {
     "name": "stdout",
     "output_type": "stream",
     "text": [
      " 9728/10000 [============================>.] - ETA: 0s"
     ]
    }
   ],
   "source": [
    "score = model.evaluate(X_test, Y_test, verbose=VERBOSE)"
   ]
  },
  {
   "cell_type": "code",
   "execution_count": 18,
   "metadata": {},
   "outputs": [
    {
     "name": "stdout",
     "output_type": "stream",
     "text": [
      "____________________________________________________________________________________________________\n",
      "Layer (type)                     Output Shape          Param #     Connected to                     \n",
      "====================================================================================================\n",
      "dense_7 (Dense)                  (None, 128)           100480      dense_input_4[0][0]              \n",
      "____________________________________________________________________________________________________\n",
      "activation_7 (Activation)        (None, 128)           0           dense_7[0][0]                    \n",
      "____________________________________________________________________________________________________\n",
      "dense_8 (Dense)                  (None, 128)           16512       activation_7[0][0]               \n",
      "____________________________________________________________________________________________________\n",
      "activation_8 (Activation)        (None, 128)           0           dense_8[0][0]                    \n",
      "____________________________________________________________________________________________________\n",
      "dense_9 (Dense)                  (None, 128)           16512       activation_8[0][0]               \n",
      "____________________________________________________________________________________________________\n",
      "activation_9 (Activation)        (None, 128)           0           dense_9[0][0]                    \n",
      "____________________________________________________________________________________________________\n",
      "dense_10 (Dense)                 (None, 10)            1290        activation_9[0][0]               \n",
      "____________________________________________________________________________________________________\n",
      "activation_10 (Activation)       (None, 10)            0           dense_10[0][0]                   \n",
      "====================================================================================================\n",
      "Total params: 134,794\n",
      "Trainable params: 134,794\n",
      "Non-trainable params: 0\n",
      "____________________________________________________________________________________________________\n"
     ]
    }
   ],
   "source": [
    "#with hidden\n",
    "model = Sequential()\n",
    "model.add(Dense(N_HIDDEN, input_shape=(RESHAPED,)))\n",
    "model.add(Activation('relu'))\n",
    "model.add(Dense(N_HIDDEN))\n",
    "model.add(Activation('relu'))\n",
    "model.add(Dense(N_HIDDEN))\n",
    "model.add(Activation('relu'))\n",
    "model.add(Dense(NB_CLASSES))\n",
    "model.add(Activation('softmax'))\n",
    "model.summary()"
   ]
  },
  {
   "cell_type": "code",
   "execution_count": 19,
   "metadata": {
    "collapsed": true
   },
   "outputs": [],
   "source": [
    "model.compile(loss='categorical_crossentropy',\n",
    "        optimizer=OPTIMIZER,\n",
    "        metrics=['accuracy'])"
   ]
  },
  {
   "cell_type": "code",
   "execution_count": 20,
   "metadata": {},
   "outputs": [
    {
     "name": "stdout",
     "output_type": "stream",
     "text": [
      "Train on 48000 samples, validate on 12000 samples\n",
      "Epoch 1/20\n",
      "48000/48000 [==============================] - 2s - loss: 1.6274 - acc: 0.5947 - val_loss: 0.7795 - val_acc: 0.8273\n",
      "Epoch 2/20\n",
      "48000/48000 [==============================] - 2s - loss: 0.5751 - acc: 0.8509 - val_loss: 0.4219 - val_acc: 0.8846\n",
      "Epoch 3/20\n",
      "48000/48000 [==============================] - 2s - loss: 0.4056 - acc: 0.8850 - val_loss: 0.3471 - val_acc: 0.8988\n",
      "Epoch 4/20\n",
      "48000/48000 [==============================] - 2s - loss: 0.3510 - acc: 0.8979 - val_loss: 0.3154 - val_acc: 0.9068- a\n",
      "Epoch 5/20\n",
      "48000/48000 [==============================] - 1s - loss: 0.3191 - acc: 0.9077 - val_loss: 0.2876 - val_acc: 0.9153\n",
      "Epoch 6/20\n",
      "48000/48000 [==============================] - 2s - loss: 0.2947 - acc: 0.9144 - val_loss: 0.2701 - val_acc: 0.9192\n",
      "Epoch 7/20\n",
      "48000/48000 [==============================] - 2s - loss: 0.2762 - acc: 0.9206 - val_loss: 0.2556 - val_acc: 0.9248\n",
      "Epoch 8/20\n",
      "48000/48000 [==============================] - 2s - loss: 0.2601 - acc: 0.9247 - val_loss: 0.2458 - val_acc: 0.9281\n",
      "Epoch 9/20\n",
      "48000/48000 [==============================] - 1s - loss: 0.2464 - acc: 0.9288 - val_loss: 0.2331 - val_acc: 0.9313\n",
      "Epoch 10/20\n",
      "48000/48000 [==============================] - 1s - loss: 0.2346 - acc: 0.9330 - val_loss: 0.2237 - val_acc: 0.9342\n",
      "Epoch 11/20\n",
      "48000/48000 [==============================] - 1s - loss: 0.2238 - acc: 0.9352 - val_loss: 0.2165 - val_acc: 0.9372\n",
      "Epoch 12/20\n",
      "48000/48000 [==============================] - 1s - loss: 0.2140 - acc: 0.9375 - val_loss: 0.2051 - val_acc: 0.9408\n",
      "Epoch 13/20\n",
      "48000/48000 [==============================] - 1s - loss: 0.2047 - acc: 0.9402 - val_loss: 0.2026 - val_acc: 0.9409\n",
      "Epoch 14/20\n",
      "48000/48000 [==============================] - 2s - loss: 0.1964 - acc: 0.9425 - val_loss: 0.1941 - val_acc: 0.9444\n",
      "Epoch 15/20\n",
      "48000/48000 [==============================] - 2s - loss: 0.1886 - acc: 0.9453 - val_loss: 0.1855 - val_acc: 0.9476\n",
      "Epoch 16/20\n",
      "48000/48000 [==============================] - 2s - loss: 0.1813 - acc: 0.9468 - val_loss: 0.1820 - val_acc: 0.9475\n",
      "Epoch 17/20\n",
      "48000/48000 [==============================] - 1s - loss: 0.1745 - acc: 0.9494 - val_loss: 0.1773 - val_acc: 0.9496\n",
      "Epoch 18/20\n",
      "48000/48000 [==============================] - 1s - loss: 0.1680 - acc: 0.9515 - val_loss: 0.1711 - val_acc: 0.9513\n",
      "Epoch 19/20\n",
      "48000/48000 [==============================] - 1s - loss: 0.1624 - acc: 0.9532 - val_loss: 0.1665 - val_acc: 0.9531\n",
      "Epoch 20/20\n",
      "48000/48000 [==============================] - 1s - loss: 0.1567 - acc: 0.9550 - val_loss: 0.1646 - val_acc: 0.9527\n",
      " 9920/10000 [============================>.] - ETA: 0sTest score: 0.16403528731092812\n",
      "Test accuracy: 0.9491\n"
     ]
    }
   ],
   "source": [
    "history = model.fit(X_train, Y_train,\n",
    "            batch_size=BATCH_SIZE, nb_epoch=NB_EPOCH,\n",
    "            verbose=VERBOSE, validation_split=VALIDATION_SPLIT)\n",
    "\n",
    "score = model.evaluate(X_test, Y_test, verbose=VERBOSE)\n",
    "print(\"Test score:\", score[0])\n",
    "print('Test accuracy:', score[1])"
   ]
  }
 ],
 "metadata": {
  "kernelspec": {
   "display_name": "Python 3",
   "language": "python",
   "name": "python3"
  },
  "language_info": {
   "codemirror_mode": {
    "name": "ipython",
    "version": 3
   },
   "file_extension": ".py",
   "mimetype": "text/x-python",
   "name": "python",
   "nbconvert_exporter": "python",
   "pygments_lexer": "ipython3",
   "version": "3.6.1"
  }
 },
 "nbformat": 4,
 "nbformat_minor": 2
}
