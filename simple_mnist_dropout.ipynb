{
 "cells": [
  {
   "cell_type": "code",
   "execution_count": 1,
   "metadata": {
    "collapsed": true
   },
   "outputs": [],
   "source": [
    "from __future__ import print_function\n",
    "import numpy as np\n",
    "from keras.datasets import mnist\n",
    "from keras.models import Sequential\n",
    "\n",
    "from keras.layers.core import Dense, Dropout, Activation\n",
    "\n",
    "from keras.optimizers import SGD\n",
    "from keras.utils import np_utils\n",
    "\n",
    "np.random.seed(1671)"
   ]
  },
  {
   "cell_type": "code",
   "execution_count": 11,
   "metadata": {
    "collapsed": true
   },
   "outputs": [],
   "source": [
    "#network and training\n",
    "NB_EPOCH = 50\n",
    "BATCH_SIZE = 128\n",
    "VERBOSE = 1\n",
    "NB_CLASSES = 10\n",
    "OPTIMIZER = SGD() # SGD optimizer, explained later in this chapter\n",
    "N_HIDDEN = 128\n",
    "VALIDATION_SPLIT=0.2 \n",
    "N_HIDDEN = 128\n",
    "DROPOUT = 0.3"
   ]
  },
  {
   "cell_type": "code",
   "execution_count": 3,
   "metadata": {
    "collapsed": true
   },
   "outputs": [],
   "source": [
    "#data \n",
    "(X_train, y_train), (X_test, y_test) = mnist.load_data()\n",
    "#X_test.shape\n",
    "RESHAPED = 784\n",
    "\n",
    "X_train = X_train.reshape(60000, RESHAPED)\n",
    "X_test = X_test.reshape(10000, RESHAPED)\n",
    "\n",
    "X_train = X_train.astype('float32')\n",
    "X_test = X_test.astype('float32')"
   ]
  },
  {
   "cell_type": "code",
   "execution_count": 4,
   "metadata": {
    "collapsed": true
   },
   "outputs": [],
   "source": [
    "# normalize\n",
    "X_train /= 255\n",
    "X_test /= 255"
   ]
  },
  {
   "cell_type": "code",
   "execution_count": 5,
   "metadata": {
    "collapsed": true
   },
   "outputs": [],
   "source": [
    "# convert class vectors to binary class matrices\n",
    "Y_train = np_utils.to_categorical(y_train, NB_CLASSES)\n",
    "Y_test = np_utils.to_categorical(y_test, NB_CLASSES)"
   ]
  },
  {
   "cell_type": "code",
   "execution_count": 6,
   "metadata": {},
   "outputs": [
    {
     "name": "stdout",
     "output_type": "stream",
     "text": [
      "____________________________________________________________________________________________________\n",
      "Layer (type)                     Output Shape          Param #     Connected to                     \n",
      "====================================================================================================\n",
      "dense_1 (Dense)                  (None, 128)           100480      dense_input_1[0][0]              \n",
      "____________________________________________________________________________________________________\n",
      "activation_1 (Activation)        (None, 128)           0           dense_1[0][0]                    \n",
      "____________________________________________________________________________________________________\n",
      "dropout_1 (Dropout)              (None, 128)           0           activation_1[0][0]               \n",
      "____________________________________________________________________________________________________\n",
      "dense_2 (Dense)                  (None, 128)           16512       dropout_1[0][0]                  \n",
      "____________________________________________________________________________________________________\n",
      "activation_2 (Activation)        (None, 128)           0           dense_2[0][0]                    \n",
      "____________________________________________________________________________________________________\n",
      "dropout_2 (Dropout)              (None, 128)           0           activation_2[0][0]               \n",
      "____________________________________________________________________________________________________\n",
      "dense_3 (Dense)                  (None, 10)            1290        dropout_2[0][0]                  \n",
      "____________________________________________________________________________________________________\n",
      "activation_3 (Activation)        (None, 10)            0           dense_3[0][0]                    \n",
      "====================================================================================================\n",
      "Total params: 118,282\n",
      "Trainable params: 118,282\n",
      "Non-trainable params: 0\n",
      "____________________________________________________________________________________________________\n"
     ]
    }
   ],
   "source": [
    "model = Sequential()\n",
    "model.add(Dense(N_HIDDEN, input_shape=(RESHAPED,)))\n",
    "model.add(Activation('relu'))\n",
    "model.add(Dropout(DROPOUT))\n",
    "model.add(Dense(N_HIDDEN))\n",
    "model.add(Activation('relu'))\n",
    "model.add(Dropout(DROPOUT))\n",
    "model.add(Dense(NB_CLASSES))\n",
    "model.add(Activation('softmax'))\n",
    "model.summary()"
   ]
  },
  {
   "cell_type": "code",
   "execution_count": 7,
   "metadata": {},
   "outputs": [
    {
     "name": "stdout",
     "output_type": "stream",
     "text": [
      "WARNING:tensorflow:From /home/ruhshan/anaconda3/lib/python3.6/site-packages/keras/backend/tensorflow_backend.py:1966: calling reduce_sum (from tensorflow.python.ops.math_ops) with keep_dims is deprecated and will be removed in a future version.\n",
      "Instructions for updating:\n",
      "keep_dims is deprecated, use keepdims instead\n",
      "WARNING:tensorflow:From /home/ruhshan/anaconda3/lib/python3.6/site-packages/keras/backend/tensorflow_backend.py:996: calling reduce_mean (from tensorflow.python.ops.math_ops) with keep_dims is deprecated and will be removed in a future version.\n",
      "Instructions for updating:\n",
      "keep_dims is deprecated, use keepdims instead\n"
     ]
    }
   ],
   "source": [
    "model.compile(loss='categorical_crossentropy',\n",
    "    optimizer=OPTIMIZER,\n",
    "    metrics=['accuracy'])"
   ]
  },
  {
   "cell_type": "code",
   "execution_count": 12,
   "metadata": {},
   "outputs": [
    {
     "name": "stdout",
     "output_type": "stream",
     "text": [
      "Train on 48000 samples, validate on 12000 samples\n",
      "Epoch 1/50\n",
      "48000/48000 [==============================] - 2s - loss: 0.2787 - acc: 0.9178 - val_loss: 0.1850 - val_acc: 0.9451\n",
      "Epoch 2/50\n",
      "48000/48000 [==============================] - 2s - loss: 0.2740 - acc: 0.9181 - val_loss: 0.1809 - val_acc: 0.9472\n",
      "Epoch 3/50\n",
      "48000/48000 [==============================] - 2s - loss: 0.2672 - acc: 0.9216 - val_loss: 0.1770 - val_acc: 0.9481\n",
      "Epoch 4/50\n",
      "48000/48000 [==============================] - 2s - loss: 0.2602 - acc: 0.9236 - val_loss: 0.1734 - val_acc: 0.9494\n",
      "Epoch 5/50\n",
      "48000/48000 [==============================] - 2s - loss: 0.2555 - acc: 0.9243 - val_loss: 0.1704 - val_acc: 0.9497\n",
      "Epoch 6/50\n",
      "48000/48000 [==============================] - 2s - loss: 0.2533 - acc: 0.9266 - val_loss: 0.1672 - val_acc: 0.9519\n",
      "Epoch 7/50\n",
      "48000/48000 [==============================] - 2s - loss: 0.2462 - acc: 0.9266 - val_loss: 0.1637 - val_acc: 0.9528\n",
      "Epoch 8/50\n",
      "48000/48000 [==============================] - 2s - loss: 0.2402 - acc: 0.9300 - val_loss: 0.1606 - val_acc: 0.9536\n",
      "Epoch 9/50\n",
      "48000/48000 [==============================] - 2s - loss: 0.2395 - acc: 0.9301 - val_loss: 0.1591 - val_acc: 0.9537\n",
      "Epoch 10/50\n",
      "48000/48000 [==============================] - 2s - loss: 0.2308 - acc: 0.9331 - val_loss: 0.1560 - val_acc: 0.9552\n",
      "Epoch 11/50\n",
      "48000/48000 [==============================] - 2s - loss: 0.2277 - acc: 0.9331 - val_loss: 0.1535 - val_acc: 0.9555\n",
      "Epoch 12/50\n",
      "48000/48000 [==============================] - 2s - loss: 0.2246 - acc: 0.9348 - val_loss: 0.1510 - val_acc: 0.9553\n",
      "Epoch 13/50\n",
      "48000/48000 [==============================] - 2s - loss: 0.2209 - acc: 0.9353 - val_loss: 0.1495 - val_acc: 0.9563\n",
      "Epoch 14/50\n",
      "48000/48000 [==============================] - 2s - loss: 0.2180 - acc: 0.9345 - val_loss: 0.1470 - val_acc: 0.9569\n",
      "Epoch 15/50\n",
      "48000/48000 [==============================] - 2s - loss: 0.2150 - acc: 0.9380 - val_loss: 0.1458 - val_acc: 0.9573\n",
      "Epoch 16/50\n",
      "48000/48000 [==============================] - 2s - loss: 0.2124 - acc: 0.9372 - val_loss: 0.1431 - val_acc: 0.9586\n",
      "Epoch 17/50\n",
      "48000/48000 [==============================] - 2s - loss: 0.2080 - acc: 0.9391 - val_loss: 0.1416 - val_acc: 0.9585\n",
      "Epoch 18/50\n",
      "48000/48000 [==============================] - 2s - loss: 0.2056 - acc: 0.9395 - val_loss: 0.1399 - val_acc: 0.9583\n",
      "Epoch 19/50\n",
      "48000/48000 [==============================] - 2s - loss: 0.2042 - acc: 0.9399 - val_loss: 0.1388 - val_acc: 0.9586\n",
      "Epoch 20/50\n",
      "48000/48000 [==============================] - 2s - loss: 0.2032 - acc: 0.9397 - val_loss: 0.1367 - val_acc: 0.9603\n",
      "Epoch 21/50\n",
      "48000/48000 [==============================] - 2s - loss: 0.1992 - acc: 0.9407 - val_loss: 0.1355 - val_acc: 0.9596\n",
      "Epoch 22/50\n",
      "48000/48000 [==============================] - 2s - loss: 0.1957 - acc: 0.9424 - val_loss: 0.1337 - val_acc: 0.9602\n",
      "Epoch 23/50\n",
      "48000/48000 [==============================] - 2s - loss: 0.1944 - acc: 0.9419 - val_loss: 0.1324 - val_acc: 0.9603\n",
      "Epoch 24/50\n",
      "48000/48000 [==============================] - 2s - loss: 0.1916 - acc: 0.9431 - val_loss: 0.1319 - val_acc: 0.9609\n",
      "Epoch 25/50\n",
      "48000/48000 [==============================] - 2s - loss: 0.1883 - acc: 0.9433 - val_loss: 0.1295 - val_acc: 0.9620\n",
      "Epoch 26/50\n",
      "48000/48000 [==============================] - 2s - loss: 0.1863 - acc: 0.9458 - val_loss: 0.1289 - val_acc: 0.9623\n",
      "Epoch 27/50\n",
      "48000/48000 [==============================] - 2s - loss: 0.1851 - acc: 0.9451 - val_loss: 0.1281 - val_acc: 0.9623\n",
      "Epoch 28/50\n",
      "48000/48000 [==============================] - 2s - loss: 0.1831 - acc: 0.9454 - val_loss: 0.1271 - val_acc: 0.9624\n",
      "Epoch 29/50\n",
      "48000/48000 [==============================] - 2s - loss: 0.1794 - acc: 0.9476 - val_loss: 0.1252 - val_acc: 0.9629\n",
      "Epoch 30/50\n",
      "48000/48000 [==============================] - 2s - loss: 0.1791 - acc: 0.9465 - val_loss: 0.1246 - val_acc: 0.9632\n",
      "Epoch 31/50\n",
      "48000/48000 [==============================] - 2s - loss: 0.1788 - acc: 0.9476 - val_loss: 0.1241 - val_acc: 0.9632\n",
      "Epoch 32/50\n",
      "48000/48000 [==============================] - 2s - loss: 0.1734 - acc: 0.9483 - val_loss: 0.1232 - val_acc: 0.9634\n",
      "Epoch 33/50\n",
      "48000/48000 [==============================] - 2s - loss: 0.1704 - acc: 0.9489 - val_loss: 0.1214 - val_acc: 0.9640\n",
      "Epoch 34/50\n",
      "48000/48000 [==============================] - 2s - loss: 0.1710 - acc: 0.9493 - val_loss: 0.1205 - val_acc: 0.9643\n",
      "Epoch 35/50\n",
      "48000/48000 [==============================] - 2s - loss: 0.1674 - acc: 0.9503 - val_loss: 0.1199 - val_acc: 0.9644\n",
      "Epoch 36/50\n",
      "48000/48000 [==============================] - 2s - loss: 0.1708 - acc: 0.9493 - val_loss: 0.1194 - val_acc: 0.9646\n",
      "Epoch 37/50\n",
      "48000/48000 [==============================] - 2s - loss: 0.1679 - acc: 0.9504 - val_loss: 0.1190 - val_acc: 0.9648\n",
      "Epoch 38/50\n",
      "48000/48000 [==============================] - 2s - loss: 0.1655 - acc: 0.9504 - val_loss: 0.1173 - val_acc: 0.9659\n",
      "Epoch 39/50\n",
      "48000/48000 [==============================] - 2s - loss: 0.1629 - acc: 0.9523 - val_loss: 0.1168 - val_acc: 0.9658\n",
      "Epoch 40/50\n",
      "48000/48000 [==============================] - 2s - loss: 0.1616 - acc: 0.9516 - val_loss: 0.1155 - val_acc: 0.9661\n",
      "Epoch 41/50\n",
      "48000/48000 [==============================] - 2s - loss: 0.1596 - acc: 0.9526 - val_loss: 0.1153 - val_acc: 0.9660\n",
      "Epoch 42/50\n",
      "48000/48000 [==============================] - 2s - loss: 0.1584 - acc: 0.9522 - val_loss: 0.1144 - val_acc: 0.9659\n",
      "Epoch 43/50\n",
      "48000/48000 [==============================] - 2s - loss: 0.1565 - acc: 0.9532 - val_loss: 0.1136 - val_acc: 0.9659\n",
      "Epoch 44/50\n",
      "48000/48000 [==============================] - 2s - loss: 0.1576 - acc: 0.9535 - val_loss: 0.1127 - val_acc: 0.9672\n",
      "Epoch 45/50\n",
      "48000/48000 [==============================] - 2s - loss: 0.1509 - acc: 0.9548 - val_loss: 0.1123 - val_acc: 0.9664\n",
      "Epoch 46/50\n",
      "48000/48000 [==============================] - 2s - loss: 0.1520 - acc: 0.9550 - val_loss: 0.1114 - val_acc: 0.9663\n",
      "Epoch 47/50\n",
      "48000/48000 [==============================] - 2s - loss: 0.1538 - acc: 0.9546 - val_loss: 0.1117 - val_acc: 0.9663\n",
      "Epoch 48/50\n",
      "48000/48000 [==============================] - 2s - loss: 0.1520 - acc: 0.9549 - val_loss: 0.1106 - val_acc: 0.9669\n",
      "Epoch 49/50\n",
      "48000/48000 [==============================] - 2s - loss: 0.1490 - acc: 0.9549 - val_loss: 0.1098 - val_acc: 0.9672\n",
      "Epoch 50/50\n",
      "48000/48000 [==============================] - 2s - loss: 0.1503 - acc: 0.9545 - val_loss: 0.1090 - val_acc: 0.9677\n"
     ]
    }
   ],
   "source": [
    "history = model.fit(X_train, Y_train,\n",
    "    batch_size=BATCH_SIZE, nb_epoch=NB_EPOCH,\n",
    "    verbose=VERBOSE, validation_split=VALIDATION_SPLIT)\n"
   ]
  },
  {
   "cell_type": "code",
   "execution_count": 13,
   "metadata": {},
   "outputs": [
    {
     "name": "stdout",
     "output_type": "stream",
     "text": [
      " 9824/10000 [============================>.] - ETA: 0sTest score: 0.10709660635832698\n",
      "Test accuracy: 0.9675\n"
     ]
    }
   ],
   "source": [
    "score = model.evaluate(X_test, Y_test, verbose=VERBOSE)\n",
    "print(\"Test score:\", score[0])\n",
    "print('Test accuracy:', score[1])"
   ]
  }
 ],
 "metadata": {
  "kernelspec": {
   "display_name": "Python 3",
   "language": "python",
   "name": "python3"
  },
  "language_info": {
   "codemirror_mode": {
    "name": "ipython",
    "version": 3
   },
   "file_extension": ".py",
   "mimetype": "text/x-python",
   "name": "python",
   "nbconvert_exporter": "python",
   "pygments_lexer": "ipython3",
   "version": "3.6.1"
  }
 },
 "nbformat": 4,
 "nbformat_minor": 2
}
